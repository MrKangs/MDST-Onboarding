{
 "cells": [
  {
   "cell_type": "markdown",
   "metadata": {},
   "source": [
    "# Checkpoint 1"
   ]
  },
  {
   "cell_type": "markdown",
   "metadata": {},
   "source": [
    "Reminder: \n",
    "\n",
    "- You are being evaluated for completion and effort in this checkpoint. \n",
    "- Avoid manual labor / hard coding as much as possible, everything we've taught you so far are meant to simplify and automate your process."
   ]
  },
  {
   "cell_type": "markdown",
   "metadata": {},
   "source": [
    "We will be working with the same `states_edu.csv` that you should already be familiar with from the tutorial.\n",
    "\n",
    "We investigated Grade 8 reading score in the tutorial. For this checkpoint, you are asked to investigate another test. Here's an overview:\n",
    "\n",
    "* Choose a specific response variable to focus on\n",
    ">Grade 4 Math, Grade 4 Reading, Grade 8 Math\n",
    "* Pick or create features to use\n",
    ">Will all the features be useful in predicting test score? Are some more important than others? Should you standardize, bin, or scale the data?\n",
    "* Explore the data as it relates to that test\n",
    ">Create at least 2 visualizations (graphs), each with a caption describing the graph and what it tells us about the data\n",
    "* Create training and testing data\n",
    ">Do you want to train on all the data? Only data from the last 10 years? Only Michigan data?\n",
    "* Train a ML model to predict outcome \n",
    ">Define what you want to predict, and pick a model in sklearn to use (see sklearn <a href=\"https://scikit-learn.org/stable/modules/linear_model.html\">regressors</a>).\n",
    "\n",
    "\n",
    "Include comments throughout your code! Every cleanup and preprocessing task should be documented."
   ]
  },
  {
   "cell_type": "markdown",
   "metadata": {},
   "source": [
    "<h2> Data Cleanup </h2>\n",
    "\n",
    "Import `numpy`, `pandas`, and `matplotlib`.\n",
    "\n",
    "(Feel free to import other libraries!)"
   ]
  },
  {
   "cell_type": "code",
   "execution_count": 7,
   "metadata": {},
   "outputs": [],
   "source": [
    "import numpy as np\n",
    "import pandas as pd\n",
    "import matplotlib as plt"
   ]
  },
  {
   "cell_type": "markdown",
   "metadata": {},
   "source": [
    "Load in the \"states_edu.csv\" dataset and take a look at the head of the data"
   ]
  },
  {
   "cell_type": "code",
   "execution_count": 5,
   "metadata": {},
   "outputs": [
    {
     "name": "stdout",
     "output_type": "stream",
     "text": [
      "       PRIMARY_KEY       STATE  YEAR  ENROLL  TOTAL_REVENUE  FEDERAL_REVENUE  \\\n",
      "0     1992_ALABAMA     ALABAMA  1992     NaN      2678885.0         304177.0   \n",
      "1      1992_ALASKA      ALASKA  1992     NaN      1049591.0         106780.0   \n",
      "2     1992_ARIZONA     ARIZONA  1992     NaN      3258079.0         297888.0   \n",
      "3    1992_ARKANSAS    ARKANSAS  1992     NaN      1711959.0         178571.0   \n",
      "4  1992_CALIFORNIA  CALIFORNIA  1992     NaN     26260025.0        2072470.0   \n",
      "\n",
      "   STATE_REVENUE  LOCAL_REVENUE  TOTAL_EXPENDITURE  INSTRUCTION_EXPENDITURE  \\\n",
      "0      1659028.0       715680.0          2653798.0                1481703.0   \n",
      "1       720711.0       222100.0           972488.0                 498362.0   \n",
      "2      1369815.0      1590376.0          3401580.0                1435908.0   \n",
      "3       958785.0       574603.0          1743022.0                 964323.0   \n",
      "4     16546514.0      7641041.0         27138832.0               14358922.0   \n",
      "\n",
      "   ...  GRADES_4_G  GRADES_8_G  GRADES_12_G  GRADES_1_8_G  GRADES_9_12_G  \\\n",
      "0  ...     57948.0     58025.0      41167.0           NaN            NaN   \n",
      "1  ...      9748.0      8789.0       6714.0           NaN            NaN   \n",
      "2  ...     55433.0     49081.0      37410.0           NaN            NaN   \n",
      "3  ...     34632.0     36011.0      27651.0           NaN            NaN   \n",
      "4  ...    418418.0    363296.0     270675.0           NaN            NaN   \n",
      "\n",
      "   GRADES_ALL_G  AVG_MATH_4_SCORE  AVG_MATH_8_SCORE  AVG_READING_4_SCORE  \\\n",
      "0      731634.0             208.0             252.0                207.0   \n",
      "1      122487.0               NaN               NaN                  NaN   \n",
      "2      673477.0             215.0             265.0                209.0   \n",
      "3      441490.0             210.0             256.0                211.0   \n",
      "4     5254844.0             208.0             261.0                202.0   \n",
      "\n",
      "   AVG_READING_8_SCORE  \n",
      "0                  NaN  \n",
      "1                  NaN  \n",
      "2                  NaN  \n",
      "3                  NaN  \n",
      "4                  NaN  \n",
      "\n",
      "[5 rows x 25 columns]\n"
     ]
    }
   ],
   "source": [
    "df = pd.read_csv(\"..//data//states_edu.csv\")\n",
    "print(df.head(5))"
   ]
  },
  {
   "cell_type": "markdown",
   "metadata": {},
   "source": [
    "You should always familiarize yourself with what each column in the dataframe represents. Read about the states_edu dataset here: https://www.kaggle.com/noriuk/us-education-datasets-unification-project"
   ]
  },
  {
   "cell_type": "markdown",
   "metadata": {},
   "source": [
    "Use this space to rename columns, deal with missing data, etc. _(optional)_"
   ]
  },
  {
   "cell_type": "code",
   "execution_count": 11,
   "metadata": {},
   "outputs": [
    {
     "data": {
      "text/plain": [
       "PRIMARY_KEY                       0\n",
       "STATE                             0\n",
       "YEAR                              0\n",
       "ENROLL                          205\n",
       "TOTAL_REVENUE                   163\n",
       "FEDERAL_REVENUE                 163\n",
       "STATE_REVENUE                   163\n",
       "LOCAL_REVENUE                   163\n",
       "TOTAL_EXPENDITURE               163\n",
       "INSTRUCTION_EXPENDITURE         163\n",
       "SUPPORT_SERVICES_EXPENDITURE    163\n",
       "OTHER_EXPENDITURE               205\n",
       "CAPITAL_OUTLAY_EXPENDITURE      163\n",
       "GRADES_PK_G                      84\n",
       "GRADES_KG_G                      74\n",
       "GRADES_4_G                       74\n",
       "GRADES_8_G                       74\n",
       "GRADES_12_G                      74\n",
       "GRADES_1_8_G                    205\n",
       "GRADES_9_12_G                   154\n",
       "GRADES_ALL_G                     74\n",
       "AVG_MATH_4_SCORE                 38\n",
       "AVG_MATH_8_SCORE                  0\n",
       "AVG_READING_4_SCORE              81\n",
       "AVG_READING_8_SCORE             124\n",
       "dtype: int64"
      ]
     },
     "execution_count": 11,
     "metadata": {},
     "output_type": "execute_result"
    }
   ],
   "source": [
    "df.dropna(subset=[\"AVG_MATH_8_SCORE\"], inplace=True)"
   ]
  },
  {
   "cell_type": "markdown",
   "metadata": {},
   "source": [
    "<h2>Exploratory Data Analysis (EDA) </h2>"
   ]
  },
  {
   "cell_type": "markdown",
   "metadata": {},
   "source": [
    "Chosen one of Grade 4 Reading, Grade 4 Math, or Grade 8 Math to focus on: Grade 8 Math"
   ]
  },
  {
   "cell_type": "markdown",
   "metadata": {},
   "source": [
    "How many years of data are logged in our dataset? "
   ]
  },
  {
   "cell_type": "code",
   "execution_count": 16,
   "metadata": {},
   "outputs": [
    {
     "name": "stdout",
     "output_type": "stream",
     "text": [
      "There are total of 13 years of data recorded.\n"
     ]
    }
   ],
   "source": [
    "print(\"There are total of {} years of data recorded.\".format(len(df[\"YEAR\"].unique())))"
   ]
  },
  {
   "cell_type": "markdown",
   "metadata": {},
   "source": [
    "Let's compare Michigan to Ohio. Which state has the higher average across all years in the test you chose?"
   ]
  },
  {
   "cell_type": "code",
   "execution_count": 26,
   "metadata": {},
   "outputs": [
    {
     "name": "stdout",
     "output_type": "stream",
     "text": [
      "Michigan had an average of 276.17 points.\n",
      "Ohio had an average of 282.25 points.\n",
      "Hence, Ohio had a higher score for Grade 8 Math Average than Michigan.\n"
     ]
    }
   ],
   "source": [
    "by_state = df.groupby(\"STATE\")\n",
    "print(\"Michigan had an average of {:0.2f} points.\".format(by_state[\"AVG_MATH_8_SCORE\"].mean()[\"MICHIGAN\"]))\n",
    "print(\"Ohio had an average of {:0.2f} points.\".format(by_state[\"AVG_MATH_8_SCORE\"].mean()[\"OHIO\"]))\n",
    "print(\"Hence, Ohio has a higher score for Grade 8 Math Average than Michigan.\")"
   ]
  },
  {
   "cell_type": "markdown",
   "metadata": {},
   "source": [
    "Find the average for your chosen test across all states in 2019"
   ]
  },
  {
   "cell_type": "code",
   "execution_count": 42,
   "metadata": {},
   "outputs": [
    {
     "name": "stdout",
     "output_type": "stream",
     "text": [
      "    index                 STATE  AVG_MATH_8_SCORE\n",
      "0    1662               ALABAMA             269.0\n",
      "1    1663                ALASKA             274.0\n",
      "2    1664               ARIZONA             280.0\n",
      "3    1665              ARKANSAS             274.0\n",
      "4    1666            CALIFORNIA             276.0\n",
      "5    1667              COLORADO             285.0\n",
      "6    1668           CONNECTICUT             286.0\n",
      "7    1669              DELAWARE             277.0\n",
      "8    1670  DISTRICT_OF_COLUMBIA             269.0\n",
      "9    1671                 DODEA             292.0\n",
      "10   1672               FLORIDA             279.0\n",
      "11   1673               GEORGIA             279.0\n",
      "12   1674                HAWAII             275.0\n",
      "13   1675                 IDAHO             286.0\n",
      "14   1676              ILLINOIS             283.0\n"
     ]
    }
   ],
   "source": [
    "only_2019 = df[df[\"YEAR\"] == 2019]\n",
    "print(only_2019[[\"STATE\", \"AVG_MATH_8_SCORE\"]].head(15).reset_index())"
   ]
  },
  {
   "cell_type": "markdown",
   "metadata": {},
   "source": [
    "For each state, find a maximum value for your chosen test score"
   ]
  },
  {
   "cell_type": "code",
   "execution_count": 45,
   "metadata": {},
   "outputs": [
    {
     "name": "stdout",
     "output_type": "stream",
     "text": [
      "                   STATE  YEAR  AVG_MATH_8_SCORE\n",
      "0                ALABAMA  2009             269.0\n",
      "1                 ALASKA  2007             283.0\n",
      "2                ARIZONA  2015             283.0\n",
      "3               ARKANSAS  2011             279.0\n",
      "4             CALIFORNIA  2017             277.0\n",
      "5               COLORADO  2011             292.0\n",
      "6            CONNECTICUT  2009             289.0\n",
      "7               DELAWARE  2009             284.0\n",
      "8   DISTRICT_OF_COLUMBIA  2019             269.0\n",
      "9                  DODEA  2017             293.0\n",
      "10               FLORIDA  2013             281.0\n",
      "11               GEORGIA  2017             281.0\n",
      "12                HAWAII  2013             281.0\n",
      "13                 IDAHO  2009             287.0\n",
      "14              ILLINOIS  2013             285.0\n",
      "15               INDIANA  2013             288.0\n",
      "16                  IOWA  2015             286.0\n",
      "17                KANSAS  2007             290.0\n",
      "18              KENTUCKY  2011             282.0\n",
      "19             LOUISIANA  2011             273.0\n",
      "20                 MAINE  2011             289.0\n",
      "21              MARYLAND  2009             288.0\n",
      "22         MASSACHUSETTS  2013             301.0\n",
      "23              MICHIGAN  2011             280.0\n",
      "24             MINNESOTA  2011             295.0\n",
      "25           MISSISSIPPI  2019             274.0\n",
      "26              MISSOURI  2009             286.0\n",
      "27               MONTANA  2011             293.0\n",
      "28              NATIONAL  2013             285.0\n",
      "29              NEBRASKA  2017             288.0\n",
      "30                NEVADA  2011             278.0\n",
      "31         NEW_HAMPSHIRE  2013             296.0\n",
      "32            NEW_JERSEY  2013             296.0\n",
      "33            NEW_MEXICO  2011             274.0\n",
      "34              NEW_YORK  2009             283.0\n",
      "35        NORTH_CAROLINA  2011             286.0\n",
      "36          NORTH_DAKOTA  2009             293.0\n",
      "37                  OHIO  2013             290.0\n",
      "38              OKLAHOMA  2011             279.0\n",
      "39                OREGON  2009             285.0\n",
      "40          PENNSYLVANIA  2013             290.0\n",
      "41          RHODE_ISLAND  2013             284.0\n",
      "42        SOUTH_CAROLINA  2007             282.0\n",
      "43          SOUTH_DAKOTA  2009             291.0\n",
      "44             TENNESSEE  2019             280.0\n",
      "45                 TEXAS  2011             290.0\n",
      "46                  UTAH  2017             287.0\n",
      "47               VERMONT  2013             295.0\n",
      "48              VIRGINIA  2017             290.0\n",
      "49            WASHINGTON  2013             290.0\n",
      "50         WEST_VIRGINIA  2013             274.0\n",
      "51             WISCONSIN  2011             289.0\n",
      "52               WYOMING  2017             289.0\n"
     ]
    }
   ],
   "source": [
    "print(df.loc[df.groupby('STATE')['AVG_MATH_8_SCORE'].idxmax(), ['STATE', 'YEAR', 'AVG_MATH_8_SCORE']].reset_index(drop=True))"
   ]
  },
  {
   "cell_type": "markdown",
   "metadata": {},
   "source": [
    "*Refer to the `Grouping and Aggregating` section in Tutorial 0 if you are stuck."
   ]
  },
  {
   "cell_type": "markdown",
   "metadata": {},
   "source": [
    "<h2> Feature Engineering </h2>\n",
    "\n",
    "After exploring the data, you can choose to modify features that you would use to predict the performance of the students on your chosen response variable. \n",
    "\n",
    "You can also create your own features. For example, perhaps you figured that maybe a state's expenditure per student may affect their overall academic performance so you create a expenditure_per_student feature.\n",
    "\n",
    "Use this space to modify or create features."
   ]
  },
  {
   "cell_type": "code",
   "execution_count": null,
   "metadata": {},
   "outputs": [],
   "source": []
  },
  {
   "cell_type": "markdown",
   "metadata": {},
   "source": [
    "Feature engineering justification: **<BRIEFLY DESCRIBE WHY YOU MADE THE CHANGES THAT YOU DID\\>**"
   ]
  },
  {
   "cell_type": "markdown",
   "metadata": {},
   "source": [
    "<h2>Visualization</h2>\n",
    "\n",
    "Investigate the relationship between your chosen response variable and at least two predictors using visualizations. Write down your observations.\n",
    "\n",
    "**Visualization 1**"
   ]
  },
  {
   "cell_type": "code",
   "execution_count": null,
   "metadata": {},
   "outputs": [],
   "source": []
  },
  {
   "cell_type": "markdown",
   "metadata": {},
   "source": [
    "**<CAPTION FOR VIZ 1>**"
   ]
  },
  {
   "cell_type": "markdown",
   "metadata": {},
   "source": [
    "**Visualization 2**"
   ]
  },
  {
   "cell_type": "code",
   "execution_count": null,
   "metadata": {},
   "outputs": [],
   "source": []
  },
  {
   "cell_type": "markdown",
   "metadata": {},
   "source": [
    "**<CAPTION FOR VIZ 2>**"
   ]
  },
  {
   "cell_type": "markdown",
   "metadata": {},
   "source": [
    "<h2> Data Creation </h2>\n",
    "\n",
    "_Use this space to create train/test data_"
   ]
  },
  {
   "cell_type": "code",
   "execution_count": null,
   "metadata": {},
   "outputs": [],
   "source": [
    "from sklearn.model_selection import train_test_split"
   ]
  },
  {
   "cell_type": "code",
   "execution_count": null,
   "metadata": {},
   "outputs": [],
   "source": [
    "# X =\n",
    "# y = "
   ]
  },
  {
   "cell_type": "code",
   "execution_count": null,
   "metadata": {},
   "outputs": [],
   "source": [
    "# X_train, X_test, y_train, y_test = train_test_split(\n",
    "#      X, y, test_size=, random_state=42)"
   ]
  },
  {
   "cell_type": "markdown",
   "metadata": {},
   "source": [
    "<h2> Prediction </h2>"
   ]
  },
  {
   "cell_type": "markdown",
   "metadata": {},
   "source": [
    "ML Models [Resource](https://medium.com/@vijaya.beeravalli/comparison-of-machine-learning-classification-models-for-credit-card-default-data-c3cf805c9a5a)"
   ]
  },
  {
   "cell_type": "code",
   "execution_count": null,
   "metadata": {},
   "outputs": [],
   "source": [
    "# import your sklearn class here"
   ]
  },
  {
   "cell_type": "code",
   "execution_count": null,
   "metadata": {},
   "outputs": [],
   "source": [
    "# create your model here\n",
    "# model = "
   ]
  },
  {
   "cell_type": "code",
   "execution_count": null,
   "metadata": {},
   "outputs": [],
   "source": [
    "model.fit(X_train, y_train)"
   ]
  },
  {
   "cell_type": "code",
   "execution_count": null,
   "metadata": {},
   "outputs": [],
   "source": [
    "y_pred = model.predict(X_test)"
   ]
  },
  {
   "cell_type": "markdown",
   "metadata": {},
   "source": [
    "## Evaluation"
   ]
  },
  {
   "cell_type": "markdown",
   "metadata": {},
   "source": [
    "Choose some metrics to evaluate the performance of your model, some of them are mentioned in the tutorial."
   ]
  },
  {
   "cell_type": "code",
   "execution_count": null,
   "metadata": {},
   "outputs": [],
   "source": []
  },
  {
   "cell_type": "markdown",
   "metadata": {},
   "source": [
    "We have copied over the graphs that visualize the model's performance on the training and testing set. \n",
    "\n",
    "Change `col_name` and modify the call to `plt.ylabel()` to isolate how a single predictor affects the model."
   ]
  },
  {
   "cell_type": "code",
   "execution_count": null,
   "metadata": {},
   "outputs": [],
   "source": [
    "# col_name = 'COLUMN NAME OF ONE PREDICTOR'\n",
    "\n",
    "# f = plt.figure(figsize=(12,6))\n",
    "# plt.scatter(X_train[col_name], y_train, color = \"red\")\n",
    "# plt.scatter(X_train[col_name], model.predict(X_train), color = \"green\")\n",
    "\n",
    "# plt.legend(['True Training','Predicted Training'])\n",
    "# plt.xlabel(col_name)\n",
    "# plt.ylabel('NAME OF THE PREDICTOR')\n",
    "# plt.title(\"Model Behavior On Training Set\")"
   ]
  },
  {
   "cell_type": "code",
   "execution_count": null,
   "metadata": {},
   "outputs": [],
   "source": [
    "# col_name = 'COLUMN NAME OF ONE PREDICTOR\"\n",
    "\n",
    "# f = plt.figure(figsize=(12,6))\n",
    "# plt.scatter(X_test[col_name], y_test, color = \"blue\")\n",
    "# plt.scatter(X_test[col_name], model.predict(X_test), color = \"black\")\n",
    "\n",
    "# plt.legend(['True testing','Predicted testing'])\n",
    "# plt.xlabel(col_name)\n",
    "# plt.ylabel('NAME OF THE PREDICTOR')\n",
    "# plt.title(\"Model Behavior on Testing Set\")"
   ]
  }
 ],
 "metadata": {
  "kernelspec": {
   "display_name": "Python 3.9.0 64-bit",
   "language": "python",
   "name": "python3"
  },
  "language_info": {
   "codemirror_mode": {
    "name": "ipython",
    "version": 3
   },
   "file_extension": ".py",
   "mimetype": "text/x-python",
   "name": "python",
   "nbconvert_exporter": "python",
   "pygments_lexer": "ipython3",
   "version": "3.12.3"
  },
  "vscode": {
   "interpreter": {
    "hash": "6cf8df3ff69f85f626faf55c10df6fe2cb9d1236b4dc73844ee4dc01369c2c99"
   }
  }
 },
 "nbformat": 4,
 "nbformat_minor": 4
}
